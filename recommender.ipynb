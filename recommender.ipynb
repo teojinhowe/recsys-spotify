{
 "cells": [
  {
   "cell_type": "code",
   "execution_count": 13,
   "metadata": {},
   "outputs": [],
   "source": [
    "import csv\n",
    "import pandas as pd\n",
    "import numpy as np\n",
    "\n",
    "import spotipy\n",
    "from spotipy.oauth2 import SpotifyClientCredentials"
   ]
  },
  {
   "cell_type": "code",
   "execution_count": 14,
   "metadata": {},
   "outputs": [],
   "source": [
    "clientID = <>\n",
    "clientSecret = <>\n",
    "\n",
    "credentials = SpotifyClientCredentials(client_id= clientID,client_secret=clientSecret)\n",
    "spotify = spotipy.Spotify(client_credentials_manager=credentials)"
   ]
  },
  {
   "cell_type": "code",
   "execution_count": 15,
   "metadata": {},
   "outputs": [],
   "source": [
    "import spotipy.util as util\n",
    "\n",
    "\n",
    "username = <>\n",
    "\n",
    "scope = 'playlist-modify-public'\n",
    "token = util.prompt_for_user_token(username,client_id=clientID,client_secret=clientSecret,\n",
    "                                   scope=scope, redirect_uri='http://localhost:8888/callback')"
   ]
  },
  {
   "cell_type": "code",
   "execution_count": 112,
   "metadata": {},
   "outputs": [
    {
     "data": {
      "text/plain": [
       "2"
      ]
     },
     "execution_count": 112,
     "metadata": {},
     "output_type": "execute_result"
    }
   ],
   "source": [
    "len(set(['a','b','c'])&set(['a','b','d']))"
   ]
  },
  {
   "cell_type": "code",
   "execution_count": 155,
   "metadata": {},
   "outputs": [],
   "source": [
    "class recommender():\n",
    "    '''Create a set of recommendations'''\n",
    "    \n",
    "    def __init__(self,username,scope='playlist-modify-public',token=None,clientID=None,clientSecret=None,credentials=None):\n",
    "        '''clientID : client ID for API app\n",
    "        clientSecret: client secret for API app\n",
    "        token: token for authentification\n",
    "        scope: scope of endpoint requirement'''\n",
    "        import pickle\n",
    "        import pandas as pd\n",
    "        import numpy as np\n",
    "        import random\n",
    "        \n",
    "        self.username = username\n",
    "        self.clientID = clientID\n",
    "        self.clientSecret = clientSecret\n",
    "        \n",
    "        ## Scope\n",
    "        self.scope = scope\n",
    "        \n",
    "        ## Credentials\n",
    "        if self.clientID == None and self.clientSecret == None:\n",
    "            self.credentials = credentials\n",
    "        elif (self.clientID==None or self.clientSecret==None) and credentials==None:\n",
    "            print ('Error')\n",
    "            raise\n",
    "        else:\n",
    "            self.credentials = SpotifyClientCredentials(client_id= clientID,client_secret=clientSecret)\n",
    "        \n",
    "        ## Token\n",
    "        if token == None:\n",
    "            self.token = util.prompt_for_user_token(self.username,client_id=self.clientID,client_secret=self.clientSecret,\n",
    "                                   scope=self.scope, redirect_uri='http://localhost:8888/callback')\n",
    "        else:\n",
    "            self.token = token\n",
    "            \n",
    "            \n",
    "    def create_user_instance(self):\n",
    "        '''Creates an authenticated user instance'''\n",
    "        \n",
    "        self.user = spotipy.Spotify(auth=self.token,client_credentials_manager=self.credentials)\n",
    "        return self.user\n",
    "    \n",
    "    def user_create_playlist(self,name):\n",
    "        '''Creates a new playlist for user\n",
    "        name: name for playlist'''\n",
    "        \n",
    "        self.name = name\n",
    "        self.created_playlist = self.user.user_playlist_create(self.username,name=self.name)\n",
    "        self.playlist_id = self.created_playlist['id']\n",
    "        return self.created_playlist\n",
    "    \n",
    "    def user_get_playlist_tracks(self, playlist_id = None):\n",
    "        if playlist_id == None:\n",
    "            playlist_id = self.playlist_id\n",
    "        playlist = self.user.user_playlist(self.username,playlist_id=playlist_id)\n",
    "        track_list = []\n",
    "        for track in playlist['tracks']['items']:\n",
    "            track_list.append(track['track']['uri'])\n",
    "        self.track_list = track_list\n",
    "        return self.track_list\n",
    "    \n",
    "    def user_get_playlist_track_audio_feat(self):\n",
    "        song_audio_features = dict()\n",
    "        for i,song in enumerate(self.track_list):\n",
    "            print i, song\n",
    "        \n",
    "            ## Access spotify api to retrieve audio features for specific track\n",
    "            local_feature = self.user.audio_features(str(song))[0]\n",
    "            \n",
    "            to_del = ['id','track_href','uri','analysis_url','type']\n",
    "            for item in to_del:\n",
    "                del(local_feature[item])\n",
    "            \n",
    "            song_audio_features[song] = local_feature\n",
    "            track_info = spotify.track(song) \n",
    "            song_audio_features[song]['artist_genres'] = spotify.artist(track_info['artists'][0]['uri'])['genres']\n",
    "            song_audio_features[song]['artist_popularity'] = spotify.artist(track_info['artists'][0]['uri'])['popularity']\n",
    "            song_audio_features[song]['explicit'] = track_info['explicit']\n",
    "            \n",
    "        self.song_audio_features= song_audio_features\n",
    "        return self.song_audio_features\n",
    "    \n",
    "      \n",
    "    def user_playlist_recommend_tracks(self):\n",
    "        '''Uses the PCAed audio features of the clustered songs'''\n",
    "        import pickle\n",
    "        import random\n",
    "        from sklearn.preprocessing import StandardScaler\n",
    "        from sklearn.metrics.pairwise import cosine_similarity\n",
    "        \n",
    "        \n",
    "        df = pd.DataFrame(self.song_audio_features).T\n",
    "        \n",
    "        ## shifting following columns to end\n",
    "        df_side = df[['artist_popularity','explicit','artist_genres']]\n",
    "        df.drop(labels=['artist_popularity','explicit','artist_genres'],inplace=True,axis=1)\n",
    "        df = df.merge(df_side,left_index=True,right_index=True)\n",
    "        df['key'] = df['key'].astype('category')\n",
    "        df['time_signature'] = df['time_signature'].astype('category')\n",
    "        \n",
    "        numeric_feature = pickle.load(open('./new_feature_to_scale.sav','rb'))\n",
    "        for col in df.columns:\n",
    "            if col in numeric_feature:\n",
    "                df[col] = pd.to_numeric(df[col],errors ='coerce')\n",
    "        \n",
    "        ## Standard Scaler\n",
    "        ss = pickle.load(open('./new_scaler.sav','rb'))\n",
    "        \n",
    "        df[['duration_ms','loudness','tempo']] = ss.transform(df[['duration_ms','loudness','tempo']])\n",
    "        \n",
    "        ## Applying multiplier\n",
    "        df[['energy','valence']] = df[['energy','valence']].apply(lambda x: (x*1.5)**2)\n",
    "        df[['tempo']] = df[['tempo']].apply(lambda x: (x*1.2)**2)\n",
    "        \n",
    "              \n",
    "        ## Songs database\n",
    "        database_df = pickle.load(open('./new_audio_features.sav','rb'))\n",
    "        \n",
    "        ## Applying multiplier to database\n",
    "        database_df[['energy','valence']] = database_df[['energy','valence']].apply(lambda x: (x*1.5)**2) \n",
    "        database_df[['tempo']] = database_df[['tempo']].apply(lambda x: (x*1.2)**2)\n",
    "        \n",
    "        ## Recommend tracks\n",
    "        recommended_tracks = []\n",
    "        \n",
    "        for i, track in df.iterrows():   ## df is the current playlist to recommend\n",
    "            \n",
    "            track_dist = []\n",
    "            genre_tracks = []\n",
    "            \n",
    "            if len(track['artist_genres']) >=5:\n",
    "                for db_i,db_track in database_df.iterrows():\n",
    "                    try:\n",
    "                        ## Append if 3 genres or more intersect\n",
    "                        if len(set(db_track['artist_genres']) & set(track['artist_genres']))>=3:\n",
    "                            genre_tracks.append(db_i)\n",
    "                    except:\n",
    "                        continue\n",
    "\n",
    "            else:\n",
    "                ## For niche artist\n",
    "                for db_i,db_track in database_df.iterrows():\n",
    "                    try:\n",
    "                        if bool(set(db_track['artist_genres']) & set(track['artist_genres'])):\n",
    "                            genre_tracks.append(db_i)\n",
    "                    except:\n",
    "                        continue\n",
    "            \n",
    "            ## Computing cosine similarity for each track within the same genre\n",
    "            for i2, cluster_track in database_df[database_df.index.isin(genre_tracks)].iloc[:,:-3].iterrows():\n",
    "                cos_dist = cosine_similarity(track[:-3].reshape(1, -1),cluster_track.reshape(1, -1))\n",
    "                track_dist.append((cos_dist,i2))\n",
    "            \n",
    "            try:\n",
    "                close_position=1\n",
    "                similar_track = sorted(track_dist,reverse=True)[close_position][1] \n",
    "                \n",
    "                ## Checks if recommended song is already inside playlist\n",
    "                \n",
    "                while similar_track in self.track_list or similar_track in recommended_tracks:\n",
    "                    closeness_position+=1\n",
    "                    similar_track = sorted(track_dist,reverse=True)[close_position][1]\n",
    "                    ## Reverse = True for cos sim, if not False\n",
    "                \n",
    "                recommended_tracks.append(similar_track) \n",
    "                \n",
    "            except:\n",
    "                pass\n",
    "        \n",
    "        self.recommended_tracks = recommended_tracks\n",
    "        \n",
    "        return self.recommended_tracks\n",
    "    \n",
    "    \n",
    "    def user_playlist_add_tracks(self,playlist_id=None,tracks=None,num_tracks_add='max'):\n",
    "        if playlist_id==None:\n",
    "            playlist_id = self.playlist_id\n",
    "        if tracks == None:\n",
    "            if num_tracks_add == 'max':\n",
    "                tracks = self.recommended_tracks\n",
    "            else:\n",
    "                tracks = []\n",
    "                for num in range(num_tracks_add):\n",
    "                    tracks.append(self.recommended_tracks.pop(num))\n",
    "            \n",
    "        self.user.user_playlist_add_tracks(username,playlist_id=playlist_id,tracks=tracks)\n",
    "        print 'tracks added'"
   ]
  },
  {
   "cell_type": "markdown",
   "metadata": {},
   "source": [
    "-------------"
   ]
  },
  {
   "cell_type": "code",
   "execution_count": 145,
   "metadata": {},
   "outputs": [],
   "source": [
    "def auto_rec_add(pl_uri,add_tracks='max'):\n",
    "    uri = pl_uri.split(':')[-1]\n",
    "    \n",
    "    test_class = recommender(username=username,scope=scope,clientID=clientID,clientSecret=clientSecret,credentials=credentials)\n",
    "    print ('Token Retrieved')\n",
    "    test_class.create_user_instance()\n",
    "    print ('User Instance Created')\n",
    "    test_class.user_get_playlist_tracks(uri)\n",
    "    print ('Playlist Tracks Retrieved')\n",
    "    test_class.user_get_playlist_track_audio_feat()\n",
    "    print ('Track features Retrieved')\n",
    "    test_class.user_playlist_recommend_tracks()\n",
    "    print ('Tracks recommended')\n",
    "    test_class.user_playlist_add_tracks(playlist_id=uri,num_tracks_add=add_tracks)"
   ]
  },
  {
   "cell_type": "code",
   "execution_count": 156,
   "metadata": {},
   "outputs": [
    {
     "name": "stdout",
     "output_type": "stream",
     "text": [
      "User Instance Created\n",
      "Playlist Tracks Retrieved\n",
      "0 spotify:track:1aRtduEHwvk2AMR87ji9Tg\n",
      "1 spotify:track:63yesoRJgXT5QALryYFV0X\n",
      "2 spotify:track:59wlTaYOL5tDUgXnbBQ3my\n",
      "3 spotify:track:3VXrpkM94UBgL4voR20tZq\n",
      "Track features Retrieved\n"
     ]
    },
    {
     "name": "stderr",
     "output_type": "stream",
     "text": [
      "/home/ec2-user/anaconda3/envs/python2/lib/python2.7/site-packages/ipykernel/__main__.py:152: FutureWarning: reshape is deprecated and will raise in a subsequent release. Please use .values.reshape(...) instead\n"
     ]
    },
    {
     "name": "stdout",
     "output_type": "stream",
     "text": [
      "Tracks recommended\n",
      "tracks added\n"
     ]
    }
   ],
   "source": [
    "auto_rec_add('spotify:user:xxxxx:playlist:xxxxxx')"
   ]
  },
  {
   "cell_type": "code",
   "execution_count": null,
   "metadata": {},
   "outputs": [],
   "source": []
  }
 ],
 "metadata": {
  "kernelspec": {
   "display_name": "Python 2",
   "language": "python",
   "name": "python2"
  },
  "language_info": {
   "codemirror_mode": {
    "name": "ipython",
    "version": 2
   },
   "file_extension": ".py",
   "mimetype": "text/x-python",
   "name": "python",
   "nbconvert_exporter": "python",
   "pygments_lexer": "ipython2",
   "version": "2.7.14"
  },
  "toc": {
   "base_numbering": 1,
   "nav_menu": {},
   "number_sections": true,
   "sideBar": true,
   "skip_h1_title": false,
   "title_cell": "Table of Contents",
   "title_sidebar": "Contents",
   "toc_cell": false,
   "toc_position": {},
   "toc_section_display": true,
   "toc_window_display": false
  },
  "varInspector": {
   "cols": {
    "lenName": 16,
    "lenType": 16,
    "lenVar": 40
   },
   "kernels_config": {
    "python": {
     "delete_cmd_postfix": "",
     "delete_cmd_prefix": "del ",
     "library": "var_list.py",
     "varRefreshCmd": "print(var_dic_list())"
    },
    "r": {
     "delete_cmd_postfix": ") ",
     "delete_cmd_prefix": "rm(",
     "library": "var_list.r",
     "varRefreshCmd": "cat(var_dic_list()) "
    }
   },
   "types_to_exclude": [
    "module",
    "function",
    "builtin_function_or_method",
    "instance",
    "_Feature"
   ],
   "window_display": false
  }
 },
 "nbformat": 4,
 "nbformat_minor": 2
}
