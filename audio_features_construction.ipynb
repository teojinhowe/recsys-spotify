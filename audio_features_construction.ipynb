{
 "cells": [
  {
   "cell_type": "markdown",
   "metadata": {},
   "source": [
    "# Notebook to retrieve audio features for database"
   ]
  },
  {
   "cell_type": "code",
   "execution_count": 1,
   "metadata": {
    "scrolled": true
   },
   "outputs": [
    {
     "name": "stdout",
     "output_type": "stream",
     "text": [
      "Collecting spotipy\n",
      "  Downloading https://files.pythonhosted.org/packages/59/46/3c957255c96910a8a0e2d9c25db1de51a8676ebba01d7966bedc6e748822/spotipy-2.4.4.tar.gz\n",
      "Requirement already satisfied: requests>=1.0 in /home/ec2-user/anaconda3/envs/python2/lib/python2.7/site-packages (from spotipy) (2.18.4)\n",
      "Requirement already satisfied: chardet<3.1.0,>=3.0.2 in /home/ec2-user/anaconda3/envs/python2/lib/python2.7/site-packages (from requests>=1.0->spotipy) (3.0.4)\n",
      "Requirement already satisfied: idna<2.7,>=2.5 in /home/ec2-user/anaconda3/envs/python2/lib/python2.7/site-packages (from requests>=1.0->spotipy) (2.6)\n",
      "Requirement already satisfied: urllib3<1.23,>=1.21.1 in /home/ec2-user/anaconda3/envs/python2/lib/python2.7/site-packages (from requests>=1.0->spotipy) (1.22)\n",
      "Requirement already satisfied: certifi>=2017.4.17 in /home/ec2-user/anaconda3/envs/python2/lib/python2.7/site-packages (from requests>=1.0->spotipy) (2018.4.16)\n",
      "Building wheels for collected packages: spotipy\n",
      "  Running setup.py bdist_wheel for spotipy ... \u001b[?25ldone\n",
      "\u001b[?25h  Stored in directory: /home/ec2-user/.cache/pip/wheels/76/28/19/a86ca9bb0e32dbd4a4f580870250f5aeef852870578e0427e6\n",
      "Successfully built spotipy\n",
      "\u001b[31mdistributed 1.21.8 requires msgpack, which is not installed.\u001b[0m\n",
      "\u001b[31mgrin 1.2.1 requires argparse>=1.1, which is not installed.\u001b[0m\n",
      "Installing collected packages: spotipy\n",
      "Successfully installed spotipy-2.4.4\n",
      "\u001b[33mYou are using pip version 10.0.1, however version 18.0 is available.\n",
      "You should consider upgrading via the 'pip install --upgrade pip' command.\u001b[0m\n"
     ]
    }
   ],
   "source": [
    "! pip install spotipy"
   ]
  },
  {
   "cell_type": "code",
   "execution_count": 2,
   "metadata": {},
   "outputs": [
    {
     "name": "stdout",
     "output_type": "stream",
     "text": [
      "Collecting tqdm\n",
      "\u001b[?25l  Downloading https://files.pythonhosted.org/packages/7d/e6/19dfaff08fcbee7f3453e5b537e65a8364f1945f921a36d08be1e2ff3475/tqdm-4.24.0-py2.py3-none-any.whl (43kB)\n",
      "\u001b[K    100% |████████████████████████████████| 51kB 777kB/s ta 0:00:01\n",
      "\u001b[31mdistributed 1.21.8 requires msgpack, which is not installed.\u001b[0m\n",
      "\u001b[31mgrin 1.2.1 requires argparse>=1.1, which is not installed.\u001b[0m\n",
      "\u001b[?25hInstalling collected packages: tqdm\n",
      "Successfully installed tqdm-4.24.0\n",
      "\u001b[33mYou are using pip version 10.0.1, however version 18.0 is available.\n",
      "You should consider upgrading via the 'pip install --upgrade pip' command.\u001b[0m\n"
     ]
    }
   ],
   "source": [
    "! pip install tqdm"
   ]
  },
  {
   "cell_type": "code",
   "execution_count": 1,
   "metadata": {},
   "outputs": [],
   "source": [
    "import csv\n",
    "import pandas as pd\n",
    "import numpy as np\n",
    "\n",
    "from tqdm import tqdm\n",
    "\n",
    "import spotipy\n",
    "from spotipy.oauth2 import SpotifyClientCredentials"
   ]
  },
  {
   "cell_type": "code",
   "execution_count": 2,
   "metadata": {},
   "outputs": [],
   "source": [
    "clientID = 'c3c5fc22422a4d4e838e80966b832f20'\n",
    "clientSecret = '5a69ae12ffff48f190ec2e90eae1ad42'\n",
    "\n",
    "credentials = SpotifyClientCredentials(client_id= clientID,client_secret=clientSecret)\n",
    "\n",
    "spotify = spotipy.Spotify(client_credentials_manager=credentials)"
   ]
  },
  {
   "cell_type": "code",
   "execution_count": 3,
   "metadata": {},
   "outputs": [],
   "source": [
    "with open('poc_songlist.csv', 'rb') as f:\n",
    "    reader = csv.reader(f)\n",
    "    song_list = list(reader)\n"
   ]
  },
  {
   "cell_type": "code",
   "execution_count": 16,
   "metadata": {
    "scrolled": false
   },
   "outputs": [
    {
     "name": "stderr",
     "output_type": "stream",
     "text": [
      "100%|██████████| 6507/6507 [1:20:12<00:00,  1.35it/s]\n"
     ]
    }
   ],
   "source": [
    "## Iterates through songs list to obtain audio features\n",
    "song_audio_features = dict()\n",
    "for song in tqdm(song_list[70000:]):\n",
    "#     if i%1000 == 0:\n",
    "#         print i\n",
    "    try:\n",
    "        track_info = spotify.track(song)    \n",
    "    ## Access spotify api to retrieve audio features for specific track    \n",
    "        song_audio_features[song] = spotify.audio_features(song)[0]\n",
    "        song_audio_features[song]['artist_genres'] = spotify.artist(track_info['artists'][0]['uri'])['genres']\n",
    "        song_audio_features[song]['artist_popularity'] = spotify.artist(track_info['artists'][0]['uri'])['popularity']\n",
    "        song_audio_features[song]['explicit'] = track_info['explicit']\n",
    "    \n",
    "    except:\n",
    "        pass"
   ]
  },
  {
   "cell_type": "code",
   "execution_count": 17,
   "metadata": {},
   "outputs": [],
   "source": [
    "import pickle"
   ]
  },
  {
   "cell_type": "code",
   "execution_count": 18,
   "metadata": {},
   "outputs": [],
   "source": [
    "filename = 'poc_song_audio_features_last.sav'\n",
    "pickle.dump(song_audio_features,open(filename,'wb'))"
   ]
  }
 ],
 "metadata": {
  "kernelspec": {
   "display_name": "conda_python2",
   "language": "python",
   "name": "conda_python2"
  },
  "language_info": {
   "codemirror_mode": {
    "name": "ipython",
    "version": 2
   },
   "file_extension": ".py",
   "mimetype": "text/x-python",
   "name": "python",
   "nbconvert_exporter": "python",
   "pygments_lexer": "ipython2",
   "version": "2.7.15"
  }
 },
 "nbformat": 4,
 "nbformat_minor": 2
}
