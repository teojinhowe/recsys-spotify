{
 "cells": [
  {
   "cell_type": "markdown",
   "metadata": {},
   "source": [
    "# Notebook to process and scale selected features"
   ]
  },
  {
   "cell_type": "code",
   "execution_count": 3,
   "metadata": {},
   "outputs": [],
   "source": [
    "import pandas as pd\n",
    "import numpy as np\n",
    "import pickle"
   ]
  },
  {
   "cell_type": "code",
   "execution_count": 4,
   "metadata": {},
   "outputs": [],
   "source": [
    "df= pickle.load(open('poc_audio_features_new.sav','rb'))"
   ]
  },
  {
   "cell_type": "code",
   "execution_count": 9,
   "metadata": {},
   "outputs": [
    {
     "name": "stdout",
     "output_type": "stream",
     "text": [
      "Index([     u'acousticness',      u'danceability',       u'duration_ms',\n",
      "                  u'energy',  u'instrumentalness',               u'key',\n",
      "                u'liveness',          u'loudness',              u'mode',\n",
      "             u'speechiness',             u'tempo',    u'time_signature',\n",
      "                 u'valence', u'artist_popularity',          u'explicit',\n",
      "           u'artist_genres'],\n",
      "      dtype='object')\n"
     ]
    }
   ],
   "source": [
    "df.columns"
   ]
  },
  {
   "cell_type": "code",
   "execution_count": 117,
   "metadata": {},
   "outputs": [
    {
     "data": {
      "text/html": [
       "<div>\n",
       "<style scoped>\n",
       "    .dataframe tbody tr th:only-of-type {\n",
       "        vertical-align: middle;\n",
       "    }\n",
       "\n",
       "    .dataframe tbody tr th {\n",
       "        vertical-align: top;\n",
       "    }\n",
       "\n",
       "    .dataframe thead th {\n",
       "        text-align: right;\n",
       "    }\n",
       "</style>\n",
       "<table border=\"1\" class=\"dataframe\">\n",
       "  <thead>\n",
       "    <tr style=\"text-align: right;\">\n",
       "      <th></th>\n",
       "      <th>acousticness</th>\n",
       "      <th>artist_genres</th>\n",
       "      <th>artist_popularity</th>\n",
       "      <th>danceability</th>\n",
       "      <th>duration_ms</th>\n",
       "      <th>energy</th>\n",
       "      <th>explicit</th>\n",
       "      <th>instrumentalness</th>\n",
       "      <th>key</th>\n",
       "      <th>liveness</th>\n",
       "      <th>loudness</th>\n",
       "      <th>mode</th>\n",
       "      <th>speechiness</th>\n",
       "      <th>tempo</th>\n",
       "      <th>time_signature</th>\n",
       "      <th>valence</th>\n",
       "    </tr>\n",
       "  </thead>\n",
       "  <tbody>\n",
       "    <tr>\n",
       "      <th>spotify:track:000VZqvXwT0YNqKk7iG2GS</th>\n",
       "      <td>8.46e-05</td>\n",
       "      <td>[death core, melodic hardcore, melodic metalco...</td>\n",
       "      <td>50</td>\n",
       "      <td>0.444</td>\n",
       "      <td>256478</td>\n",
       "      <td>0.991</td>\n",
       "      <td>False</td>\n",
       "      <td>8.43e-05</td>\n",
       "      <td>7</td>\n",
       "      <td>0.12</td>\n",
       "      <td>-4.167</td>\n",
       "      <td>1</td>\n",
       "      <td>0.133</td>\n",
       "      <td>124.016</td>\n",
       "      <td>4</td>\n",
       "      <td>0.106</td>\n",
       "    </tr>\n",
       "    <tr>\n",
       "      <th>spotify:track:000mA0etY38nKdvf1N04af</th>\n",
       "      <td>0.253</td>\n",
       "      <td>[irish rock]</td>\n",
       "      <td>48</td>\n",
       "      <td>0.3</td>\n",
       "      <td>214507</td>\n",
       "      <td>0.63</td>\n",
       "      <td>False</td>\n",
       "      <td>5.37e-06</td>\n",
       "      <td>10</td>\n",
       "      <td>0.132</td>\n",
       "      <td>-8.406</td>\n",
       "      <td>1</td>\n",
       "      <td>0.0384</td>\n",
       "      <td>77.57</td>\n",
       "      <td>4</td>\n",
       "      <td>0.182</td>\n",
       "    </tr>\n",
       "    <tr>\n",
       "      <th>spotify:track:000xQL6tZNLJzIrtIgxqSl</th>\n",
       "      <td>0.131</td>\n",
       "      <td>[dance pop, pop, post-teen pop]</td>\n",
       "      <td>80</td>\n",
       "      <td>0.748</td>\n",
       "      <td>188491</td>\n",
       "      <td>0.627</td>\n",
       "      <td>False</td>\n",
       "      <td>0</td>\n",
       "      <td>7</td>\n",
       "      <td>0.0852</td>\n",
       "      <td>-6.029</td>\n",
       "      <td>1</td>\n",
       "      <td>0.0644</td>\n",
       "      <td>120.963</td>\n",
       "      <td>4</td>\n",
       "      <td>0.524</td>\n",
       "    </tr>\n",
       "    <tr>\n",
       "      <th>spotify:track:002KbOVOX22zbNDwwnA0Wi</th>\n",
       "      <td>0.102</td>\n",
       "      <td>[big room, dance pop, deep big room, edm, elec...</td>\n",
       "      <td>69</td>\n",
       "      <td>0.732</td>\n",
       "      <td>210000</td>\n",
       "      <td>0.989</td>\n",
       "      <td>False</td>\n",
       "      <td>0.748</td>\n",
       "      <td>5</td>\n",
       "      <td>0.0551</td>\n",
       "      <td>-4.172</td>\n",
       "      <td>0</td>\n",
       "      <td>0.0483</td>\n",
       "      <td>127.984</td>\n",
       "      <td>4</td>\n",
       "      <td>0.684</td>\n",
       "    </tr>\n",
       "    <tr>\n",
       "      <th>spotify:track:002PgfoyfrOGiKch4EW8Wm</th>\n",
       "      <td>0.985</td>\n",
       "      <td>[broadway, disney, hollywood, movie tunes, sho...</td>\n",
       "      <td>57</td>\n",
       "      <td>0.199</td>\n",
       "      <td>46867</td>\n",
       "      <td>0.0376</td>\n",
       "      <td>False</td>\n",
       "      <td>0.628</td>\n",
       "      <td>8</td>\n",
       "      <td>0.115</td>\n",
       "      <td>-31.142</td>\n",
       "      <td>1</td>\n",
       "      <td>0.0457</td>\n",
       "      <td>68.167</td>\n",
       "      <td>4</td>\n",
       "      <td>0.0891</td>\n",
       "    </tr>\n",
       "  </tbody>\n",
       "</table>\n",
       "</div>"
      ],
      "text/plain": [
       "                                     acousticness  \\\n",
       "spotify:track:000VZqvXwT0YNqKk7iG2GS     8.46e-05   \n",
       "spotify:track:000mA0etY38nKdvf1N04af        0.253   \n",
       "spotify:track:000xQL6tZNLJzIrtIgxqSl        0.131   \n",
       "spotify:track:002KbOVOX22zbNDwwnA0Wi        0.102   \n",
       "spotify:track:002PgfoyfrOGiKch4EW8Wm        0.985   \n",
       "\n",
       "                                                                          artist_genres  \\\n",
       "spotify:track:000VZqvXwT0YNqKk7iG2GS  [death core, melodic hardcore, melodic metalco...   \n",
       "spotify:track:000mA0etY38nKdvf1N04af                                       [irish rock]   \n",
       "spotify:track:000xQL6tZNLJzIrtIgxqSl                    [dance pop, pop, post-teen pop]   \n",
       "spotify:track:002KbOVOX22zbNDwwnA0Wi  [big room, dance pop, deep big room, edm, elec...   \n",
       "spotify:track:002PgfoyfrOGiKch4EW8Wm  [broadway, disney, hollywood, movie tunes, sho...   \n",
       "\n",
       "                                     artist_popularity danceability  \\\n",
       "spotify:track:000VZqvXwT0YNqKk7iG2GS                50        0.444   \n",
       "spotify:track:000mA0etY38nKdvf1N04af                48          0.3   \n",
       "spotify:track:000xQL6tZNLJzIrtIgxqSl                80        0.748   \n",
       "spotify:track:002KbOVOX22zbNDwwnA0Wi                69        0.732   \n",
       "spotify:track:002PgfoyfrOGiKch4EW8Wm                57        0.199   \n",
       "\n",
       "                                     duration_ms  energy explicit  \\\n",
       "spotify:track:000VZqvXwT0YNqKk7iG2GS      256478   0.991    False   \n",
       "spotify:track:000mA0etY38nKdvf1N04af      214507    0.63    False   \n",
       "spotify:track:000xQL6tZNLJzIrtIgxqSl      188491   0.627    False   \n",
       "spotify:track:002KbOVOX22zbNDwwnA0Wi      210000   0.989    False   \n",
       "spotify:track:002PgfoyfrOGiKch4EW8Wm       46867  0.0376    False   \n",
       "\n",
       "                                     instrumentalness key liveness loudness  \\\n",
       "spotify:track:000VZqvXwT0YNqKk7iG2GS         8.43e-05   7     0.12   -4.167   \n",
       "spotify:track:000mA0etY38nKdvf1N04af         5.37e-06  10    0.132   -8.406   \n",
       "spotify:track:000xQL6tZNLJzIrtIgxqSl                0   7   0.0852   -6.029   \n",
       "spotify:track:002KbOVOX22zbNDwwnA0Wi            0.748   5   0.0551   -4.172   \n",
       "spotify:track:002PgfoyfrOGiKch4EW8Wm            0.628   8    0.115  -31.142   \n",
       "\n",
       "                                     mode speechiness    tempo time_signature  \\\n",
       "spotify:track:000VZqvXwT0YNqKk7iG2GS    1       0.133  124.016              4   \n",
       "spotify:track:000mA0etY38nKdvf1N04af    1      0.0384    77.57              4   \n",
       "spotify:track:000xQL6tZNLJzIrtIgxqSl    1      0.0644  120.963              4   \n",
       "spotify:track:002KbOVOX22zbNDwwnA0Wi    0      0.0483  127.984              4   \n",
       "spotify:track:002PgfoyfrOGiKch4EW8Wm    1      0.0457   68.167              4   \n",
       "\n",
       "                                     valence  \n",
       "spotify:track:000VZqvXwT0YNqKk7iG2GS   0.106  \n",
       "spotify:track:000mA0etY38nKdvf1N04af   0.182  \n",
       "spotify:track:000xQL6tZNLJzIrtIgxqSl   0.524  \n",
       "spotify:track:002KbOVOX22zbNDwwnA0Wi   0.684  \n",
       "spotify:track:002PgfoyfrOGiKch4EW8Wm  0.0891  "
      ]
     },
     "execution_count": 117,
     "metadata": {},
     "output_type": "execute_result"
    }
   ],
   "source": [
    "df.head()"
   ]
  },
  {
   "cell_type": "code",
   "execution_count": 118,
   "metadata": {},
   "outputs": [],
   "source": [
    "df_side = df[['artist_popularity','explicit','artist_genres']]"
   ]
  },
  {
   "cell_type": "code",
   "execution_count": 119,
   "metadata": {},
   "outputs": [
    {
     "data": {
      "text/plain": [
       "(76502, 3)"
      ]
     },
     "execution_count": 119,
     "metadata": {},
     "output_type": "execute_result"
    }
   ],
   "source": [
    "df_side.shape"
   ]
  },
  {
   "cell_type": "code",
   "execution_count": 120,
   "metadata": {},
   "outputs": [],
   "source": [
    "df.drop(labels=['artist_popularity','explicit','artist_genres'],inplace=True,axis=1)"
   ]
  },
  {
   "cell_type": "code",
   "execution_count": 121,
   "metadata": {},
   "outputs": [
    {
     "data": {
      "text/plain": [
       "(76502, 13)"
      ]
     },
     "execution_count": 121,
     "metadata": {},
     "output_type": "execute_result"
    }
   ],
   "source": [
    "df.shape"
   ]
  },
  {
   "cell_type": "code",
   "execution_count": 122,
   "metadata": {},
   "outputs": [],
   "source": [
    "df = df.merge(df_side,left_index=True,right_index=True)"
   ]
  },
  {
   "cell_type": "code",
   "execution_count": 123,
   "metadata": {},
   "outputs": [
    {
     "data": {
      "text/html": [
       "<div>\n",
       "<style scoped>\n",
       "    .dataframe tbody tr th:only-of-type {\n",
       "        vertical-align: middle;\n",
       "    }\n",
       "\n",
       "    .dataframe tbody tr th {\n",
       "        vertical-align: top;\n",
       "    }\n",
       "\n",
       "    .dataframe thead th {\n",
       "        text-align: right;\n",
       "    }\n",
       "</style>\n",
       "<table border=\"1\" class=\"dataframe\">\n",
       "  <thead>\n",
       "    <tr style=\"text-align: right;\">\n",
       "      <th></th>\n",
       "      <th>acousticness</th>\n",
       "      <th>danceability</th>\n",
       "      <th>duration_ms</th>\n",
       "      <th>energy</th>\n",
       "      <th>instrumentalness</th>\n",
       "      <th>key</th>\n",
       "      <th>liveness</th>\n",
       "      <th>loudness</th>\n",
       "      <th>mode</th>\n",
       "      <th>speechiness</th>\n",
       "      <th>tempo</th>\n",
       "      <th>time_signature</th>\n",
       "      <th>valence</th>\n",
       "      <th>artist_popularity</th>\n",
       "      <th>explicit</th>\n",
       "      <th>artist_genres</th>\n",
       "    </tr>\n",
       "  </thead>\n",
       "  <tbody>\n",
       "    <tr>\n",
       "      <th>spotify:track:000VZqvXwT0YNqKk7iG2GS</th>\n",
       "      <td>8.46e-05</td>\n",
       "      <td>0.444</td>\n",
       "      <td>256478</td>\n",
       "      <td>0.991</td>\n",
       "      <td>8.43e-05</td>\n",
       "      <td>7</td>\n",
       "      <td>0.12</td>\n",
       "      <td>-4.167</td>\n",
       "      <td>1</td>\n",
       "      <td>0.133</td>\n",
       "      <td>124.016</td>\n",
       "      <td>4</td>\n",
       "      <td>0.106</td>\n",
       "      <td>50</td>\n",
       "      <td>False</td>\n",
       "      <td>[death core, melodic hardcore, melodic metalco...</td>\n",
       "    </tr>\n",
       "    <tr>\n",
       "      <th>spotify:track:000mA0etY38nKdvf1N04af</th>\n",
       "      <td>0.253</td>\n",
       "      <td>0.3</td>\n",
       "      <td>214507</td>\n",
       "      <td>0.63</td>\n",
       "      <td>5.37e-06</td>\n",
       "      <td>10</td>\n",
       "      <td>0.132</td>\n",
       "      <td>-8.406</td>\n",
       "      <td>1</td>\n",
       "      <td>0.0384</td>\n",
       "      <td>77.57</td>\n",
       "      <td>4</td>\n",
       "      <td>0.182</td>\n",
       "      <td>48</td>\n",
       "      <td>False</td>\n",
       "      <td>[irish rock]</td>\n",
       "    </tr>\n",
       "    <tr>\n",
       "      <th>spotify:track:000xQL6tZNLJzIrtIgxqSl</th>\n",
       "      <td>0.131</td>\n",
       "      <td>0.748</td>\n",
       "      <td>188491</td>\n",
       "      <td>0.627</td>\n",
       "      <td>0</td>\n",
       "      <td>7</td>\n",
       "      <td>0.0852</td>\n",
       "      <td>-6.029</td>\n",
       "      <td>1</td>\n",
       "      <td>0.0644</td>\n",
       "      <td>120.963</td>\n",
       "      <td>4</td>\n",
       "      <td>0.524</td>\n",
       "      <td>80</td>\n",
       "      <td>False</td>\n",
       "      <td>[dance pop, pop, post-teen pop]</td>\n",
       "    </tr>\n",
       "    <tr>\n",
       "      <th>spotify:track:002KbOVOX22zbNDwwnA0Wi</th>\n",
       "      <td>0.102</td>\n",
       "      <td>0.732</td>\n",
       "      <td>210000</td>\n",
       "      <td>0.989</td>\n",
       "      <td>0.748</td>\n",
       "      <td>5</td>\n",
       "      <td>0.0551</td>\n",
       "      <td>-4.172</td>\n",
       "      <td>0</td>\n",
       "      <td>0.0483</td>\n",
       "      <td>127.984</td>\n",
       "      <td>4</td>\n",
       "      <td>0.684</td>\n",
       "      <td>69</td>\n",
       "      <td>False</td>\n",
       "      <td>[big room, dance pop, deep big room, edm, elec...</td>\n",
       "    </tr>\n",
       "    <tr>\n",
       "      <th>spotify:track:002PgfoyfrOGiKch4EW8Wm</th>\n",
       "      <td>0.985</td>\n",
       "      <td>0.199</td>\n",
       "      <td>46867</td>\n",
       "      <td>0.0376</td>\n",
       "      <td>0.628</td>\n",
       "      <td>8</td>\n",
       "      <td>0.115</td>\n",
       "      <td>-31.142</td>\n",
       "      <td>1</td>\n",
       "      <td>0.0457</td>\n",
       "      <td>68.167</td>\n",
       "      <td>4</td>\n",
       "      <td>0.0891</td>\n",
       "      <td>57</td>\n",
       "      <td>False</td>\n",
       "      <td>[broadway, disney, hollywood, movie tunes, sho...</td>\n",
       "    </tr>\n",
       "  </tbody>\n",
       "</table>\n",
       "</div>"
      ],
      "text/plain": [
       "                                     acousticness danceability duration_ms  \\\n",
       "spotify:track:000VZqvXwT0YNqKk7iG2GS     8.46e-05        0.444      256478   \n",
       "spotify:track:000mA0etY38nKdvf1N04af        0.253          0.3      214507   \n",
       "spotify:track:000xQL6tZNLJzIrtIgxqSl        0.131        0.748      188491   \n",
       "spotify:track:002KbOVOX22zbNDwwnA0Wi        0.102        0.732      210000   \n",
       "spotify:track:002PgfoyfrOGiKch4EW8Wm        0.985        0.199       46867   \n",
       "\n",
       "                                      energy instrumentalness key liveness  \\\n",
       "spotify:track:000VZqvXwT0YNqKk7iG2GS   0.991         8.43e-05   7     0.12   \n",
       "spotify:track:000mA0etY38nKdvf1N04af    0.63         5.37e-06  10    0.132   \n",
       "spotify:track:000xQL6tZNLJzIrtIgxqSl   0.627                0   7   0.0852   \n",
       "spotify:track:002KbOVOX22zbNDwwnA0Wi   0.989            0.748   5   0.0551   \n",
       "spotify:track:002PgfoyfrOGiKch4EW8Wm  0.0376            0.628   8    0.115   \n",
       "\n",
       "                                     loudness mode speechiness    tempo  \\\n",
       "spotify:track:000VZqvXwT0YNqKk7iG2GS   -4.167    1       0.133  124.016   \n",
       "spotify:track:000mA0etY38nKdvf1N04af   -8.406    1      0.0384    77.57   \n",
       "spotify:track:000xQL6tZNLJzIrtIgxqSl   -6.029    1      0.0644  120.963   \n",
       "spotify:track:002KbOVOX22zbNDwwnA0Wi   -4.172    0      0.0483  127.984   \n",
       "spotify:track:002PgfoyfrOGiKch4EW8Wm  -31.142    1      0.0457   68.167   \n",
       "\n",
       "                                     time_signature valence artist_popularity  \\\n",
       "spotify:track:000VZqvXwT0YNqKk7iG2GS              4   0.106                50   \n",
       "spotify:track:000mA0etY38nKdvf1N04af              4   0.182                48   \n",
       "spotify:track:000xQL6tZNLJzIrtIgxqSl              4   0.524                80   \n",
       "spotify:track:002KbOVOX22zbNDwwnA0Wi              4   0.684                69   \n",
       "spotify:track:002PgfoyfrOGiKch4EW8Wm              4  0.0891                57   \n",
       "\n",
       "                                     explicit  \\\n",
       "spotify:track:000VZqvXwT0YNqKk7iG2GS    False   \n",
       "spotify:track:000mA0etY38nKdvf1N04af    False   \n",
       "spotify:track:000xQL6tZNLJzIrtIgxqSl    False   \n",
       "spotify:track:002KbOVOX22zbNDwwnA0Wi    False   \n",
       "spotify:track:002PgfoyfrOGiKch4EW8Wm    False   \n",
       "\n",
       "                                                                          artist_genres  \n",
       "spotify:track:000VZqvXwT0YNqKk7iG2GS  [death core, melodic hardcore, melodic metalco...  \n",
       "spotify:track:000mA0etY38nKdvf1N04af                                       [irish rock]  \n",
       "spotify:track:000xQL6tZNLJzIrtIgxqSl                    [dance pop, pop, post-teen pop]  \n",
       "spotify:track:002KbOVOX22zbNDwwnA0Wi  [big room, dance pop, deep big room, edm, elec...  \n",
       "spotify:track:002PgfoyfrOGiKch4EW8Wm  [broadway, disney, hollywood, movie tunes, sho...  "
      ]
     },
     "execution_count": 123,
     "metadata": {},
     "output_type": "execute_result"
    }
   ],
   "source": [
    "df.head()"
   ]
  },
  {
   "cell_type": "code",
   "execution_count": 124,
   "metadata": {},
   "outputs": [],
   "source": [
    "# pickle.dump(df,open('poc_audio_features_new.sav','wb'))"
   ]
  },
  {
   "cell_type": "code",
   "execution_count": 5,
   "metadata": {},
   "outputs": [
    {
     "data": {
      "text/plain": [
       "acousticness         object\n",
       "danceability         object\n",
       "duration_ms          object\n",
       "energy               object\n",
       "instrumentalness     object\n",
       "key                  object\n",
       "liveness             object\n",
       "loudness             object\n",
       "mode                 object\n",
       "speechiness          object\n",
       "tempo                object\n",
       "time_signature       object\n",
       "valence              object\n",
       "artist_popularity    object\n",
       "explicit             object\n",
       "artist_genres        object\n",
       "dtype: object"
      ]
     },
     "execution_count": 5,
     "metadata": {},
     "output_type": "execute_result"
    }
   ],
   "source": [
    "df.dtypes"
   ]
  },
  {
   "cell_type": "code",
   "execution_count": 6,
   "metadata": {},
   "outputs": [],
   "source": [
    "df['key'] = df['key'].astype('category')\n",
    "df['time_signature'] = df['time_signature'].astype('category')"
   ]
  },
  {
   "cell_type": "code",
   "execution_count": 7,
   "metadata": {},
   "outputs": [],
   "source": [
    "non_numeric = ['key','mode','time_signature','artist_popularity','explicit','artist_genres']\n",
    "\n",
    "for col in df.columns:\n",
    "    if col not in non_numeric:\n",
    "        df[col] = pd.to_numeric(df[col],errors ='coerce')"
   ]
  },
  {
   "cell_type": "code",
   "execution_count": 8,
   "metadata": {},
   "outputs": [],
   "source": [
    "from sklearn.preprocessing import StandardScaler"
   ]
  },
  {
   "cell_type": "code",
   "execution_count": 9,
   "metadata": {},
   "outputs": [],
   "source": [
    "ss = StandardScaler()"
   ]
  },
  {
   "cell_type": "code",
   "execution_count": 10,
   "metadata": {},
   "outputs": [],
   "source": [
    "df.dropna(inplace=True)"
   ]
  },
  {
   "cell_type": "code",
   "execution_count": 11,
   "metadata": {},
   "outputs": [],
   "source": [
    "scaler = ss.fit(df[['duration_ms','loudness','tempo']])"
   ]
  },
  {
   "cell_type": "code",
   "execution_count": 12,
   "metadata": {},
   "outputs": [],
   "source": [
    "df[['duration_ms','loudness','tempo']] = scaler.transform(df[['duration_ms','loudness','tempo']])"
   ]
  },
  {
   "cell_type": "code",
   "execution_count": 13,
   "metadata": {},
   "outputs": [],
   "source": [
    "scale_features = [col for col in df.columns if col not in non_numeric]"
   ]
  },
  {
   "cell_type": "markdown",
   "metadata": {},
   "source": [
    "------"
   ]
  },
  {
   "cell_type": "code",
   "execution_count": 14,
   "metadata": {},
   "outputs": [],
   "source": [
    "pickle.dump(scaler,open('new_scaler.sav','wb'))"
   ]
  },
  {
   "cell_type": "code",
   "execution_count": 148,
   "metadata": {},
   "outputs": [],
   "source": [
    "pickle.dump(scale_features,open('new_feature_to_scale.sav','wb'))"
   ]
  },
  {
   "cell_type": "markdown",
   "metadata": {},
   "source": [
    "----------"
   ]
  },
  {
   "cell_type": "code",
   "execution_count": 15,
   "metadata": {},
   "outputs": [],
   "source": [
    "pickle.dump(df,open('new_audio_features.sav','wb'))"
   ]
  }
 ],
 "metadata": {
  "kernelspec": {
   "display_name": "Python 3",
   "language": "python",
   "name": "python3"
  },
  "language_info": {
   "codemirror_mode": {
    "name": "ipython",
    "version": 3
   },
   "file_extension": ".py",
   "mimetype": "text/x-python",
   "name": "python",
   "nbconvert_exporter": "python",
   "pygments_lexer": "ipython3",
   "version": "3.7.0"
  },
  "varInspector": {
   "cols": {
    "lenName": 16,
    "lenType": 16,
    "lenVar": 40
   },
   "kernels_config": {
    "python": {
     "delete_cmd_postfix": "",
     "delete_cmd_prefix": "del ",
     "library": "var_list.py",
     "varRefreshCmd": "print(var_dic_list())"
    },
    "r": {
     "delete_cmd_postfix": ") ",
     "delete_cmd_prefix": "rm(",
     "library": "var_list.r",
     "varRefreshCmd": "cat(var_dic_list()) "
    }
   },
   "types_to_exclude": [
    "module",
    "function",
    "builtin_function_or_method",
    "instance",
    "_Feature"
   ],
   "window_display": false
  }
 },
 "nbformat": 4,
 "nbformat_minor": 2
}
